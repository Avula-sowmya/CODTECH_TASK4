{
 "cells": [
  {
   "cell_type": "markdown",
   "id": "d8b1aa28",
   "metadata": {},
   "source": [
    "# CODTECH Internship Task-4: Recommendation System\n",
    "Build a recommendation system using Collaborative Filtering or Matrix Factorization.\n",
    "This implementation uses **SVD** from the `surprise` library."
   ]
  },
  {
   "cell_type": "code",
   "execution_count": null,
   "id": "bebe0e34",
   "metadata": {},
   "outputs": [],
   "source": [
    "!pip install scikit-surprise"
   ]
  },
  {
   "cell_type": "markdown",
   "id": "6ac6e445",
   "metadata": {},
   "source": [
    "## Import Libraries"
   ]
  },
  {
   "cell_type": "code",
   "execution_count": null,
   "id": "6306a0bc",
   "metadata": {},
   "outputs": [],
   "source": [
    "from surprise import Dataset, Reader, SVD\n",
    "from surprise.model_selection import cross_validate, train_test_split\n",
    "from surprise import accuracy\n",
    "import pandas as pd\n",
    "from collections import defaultdict\n"
   ]
  },
  {
   "cell_type": "markdown",
   "id": "24c602a3",
   "metadata": {},
   "source": [
    "## Load MovieLens Dataset"
   ]
  },
  {
   "cell_type": "code",
   "execution_count": null,
   "id": "50922c00",
   "metadata": {},
   "outputs": [],
   "source": [
    "# Load built-in MovieLens 100k dataset\n",
    "data = Dataset.load_builtin('ml-100k')\n",
    "trainset, testset = train_test_split(data, test_size=0.25)\n"
   ]
  },
  {
   "cell_type": "markdown",
   "id": "e6bfa6d4",
   "metadata": {},
   "source": [
    "## Train SVD Model"
   ]
  },
  {
   "cell_type": "code",
   "execution_count": null,
   "id": "ef2bdb1a",
   "metadata": {},
   "outputs": [],
   "source": [
    "model = SVD()\n",
    "model.fit(trainset)\n"
   ]
  },
  {
   "cell_type": "markdown",
   "id": "91f99e2d",
   "metadata": {},
   "source": [
    "## Make Predictions"
   ]
  },
  {
   "cell_type": "code",
   "execution_count": null,
   "id": "c085ff0c",
   "metadata": {},
   "outputs": [],
   "source": [
    "predictions = model.test(testset)\n"
   ]
  },
  {
   "cell_type": "markdown",
   "id": "5fde9be5",
   "metadata": {},
   "source": [
    "## Evaluate the Model"
   ]
  },
  {
   "cell_type": "code",
   "execution_count": null,
   "id": "3f55ba4e",
   "metadata": {},
   "outputs": [],
   "source": [
    "print(\"RMSE:\", accuracy.rmse(predictions))\n",
    "print(\"MAE:\", accuracy.mae(predictions))\n"
   ]
  },
  {
   "cell_type": "markdown",
   "id": "f0b3066a",
   "metadata": {},
   "source": [
    "## Get Top Recommendations for a User"
   ]
  },
  {
   "cell_type": "code",
   "execution_count": null,
   "id": "c8581134",
   "metadata": {},
   "outputs": [],
   "source": [
    "def get_top_n(predictions, n=10):\n",
    "    top_n = defaultdict(list)\n",
    "    for uid, iid, true_r, est, _ in predictions:\n",
    "        top_n[uid].append((iid, est))\n",
    "    for uid, user_ratings in top_n.items():\n",
    "        user_ratings.sort(key=lambda x: x[1], reverse=True)\n",
    "        top_n[uid] = user_ratings[:n]\n",
    "    return top_n\n",
    "\n",
    "top_n = get_top_n(predictions, n=5)\n",
    "\n",
    "# Show top 5 recommendations for a user (e.g., user 196)\n",
    "print(\"Top 5 recommendations for user 196:\")\n",
    "for item in top_n['196']:\n",
    "    print(item)\n"
   ]
  }
 ],
 "metadata": {},
 "nbformat": 4,
 "nbformat_minor": 5
}